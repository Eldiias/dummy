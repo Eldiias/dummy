{
 "cells": [
  {
   "cell_type": "code",
   "execution_count": 1,
   "metadata": {},
   "outputs": [],
   "source": [
    "import requests as r\n",
    "import pandas as pd\n",
    "import re\n",
    "from datetime import datetime\n",
    "import pytz"
   ]
  },
  {
   "cell_type": "code",
   "execution_count": 2,
   "metadata": {},
   "outputs": [],
   "source": [
    "def get_payload(name_of_the_channel, get_counts = False, get_general_info = False, get_preview_image = False, get_stream_info = False):\n",
    "    x = {\"operationName\":\"UseViewCount\",\"variables\":{\"channelLogin\":name_of_the_channel},\"extensions\":{\"persistedQuery\":{\"version\":1,\"sha256Hash\":\"00b11c9c428f79ae228f30080a06ffd8226a1f068d6f52fbc057cbde66e994c2\"}}}\n",
    "    y = {\"operationName\":\"PlayerTrackingContextQuery\",\"variables\":{\"channel\":name_of_the_channel,\"isLive\":True,\"hasCollection\":False,\"collectionID\":\"\",\"videoID\":\"\",\"hasVideo\":False,\"slug\":\"\",\"hasClip\":False},\"extensions\":{\"persistedQuery\":{\"version\":1,\"sha256Hash\":\"3fbf508886ff5e008cb94047acc752aad7428c07b6055995604de16c4b01160a\"}}}\n",
    "    z = {\"operationName\":\"VideoPreviewOverlay\",\"variables\":{\"login\":name_of_the_channel},\"extensions\":{\"persistedQuery\":{\"version\":1,\"sha256Hash\":\"3006e77e51b128d838fa4e835723ca4dc9a05c5efd4466c1085215c6e437e65c\"}}}\n",
    "    t = {\"operationName\":\"StreamMetadata\",\"variables\":{\"channelLogin\":name_of_the_channel},\"extensions\":{\"persistedQuery\":{\"version\":1,\"sha256Hash\":\"1c719a40e481453e5c48d9bb585d971b8b372f8ebb105b17076722264dfa5b3e\"}}}\n",
    "    pre = \"\"\"[{},{},{},{}]\"\"\".format(str(x)*get_counts,str(y)*get_general_info,str(z)*get_preview_image,str(t)*get_stream_info).replace(\"'\",'\"').replace('True','true').replace('False','false')\n",
    "    pre = re.sub(',+',',',pre)\n",
    "    pre = re.sub(',+]$',']',pre)\n",
    "    return re.sub('^\\[,+','[',pre)"
   ]
  },
  {
   "cell_type": "code",
   "execution_count": 3,
   "metadata": {},
   "outputs": [],
   "source": [
    "def clean_a_bit(data: r.models.Response) -> pd.Series:\n",
    "    data = data.json()\n",
    "    namedData = dict()\n",
    "    cleanedData = dict()\n",
    "    for i in data:\n",
    "        name = i['extensions']['operationName']\n",
    "        namedData[name] = i['data']\n",
    "    now = datetime.now(tz =pytz.timezone('Europe/Paris'))\n",
    "    \n",
    "    if 'PlayerTrackingContextQuery' in namedData.keys():\n",
    "        cleanedData['streamer_id'] = namedData['PlayerTrackingContextQuery']['user']['id']\n",
    "        cleanedData['streamer_login'] = namedData['PlayerTrackingContextQuery']['user']['login']\n",
    "        cleanedData['game_id'] = namedData['PlayerTrackingContextQuery']['user']['broadcastSettings']['game']['id']\n",
    "        cleanedData['name'] = namedData['PlayerTrackingContextQuery']['user']['broadcastSettings']['game']['name']\n",
    "        cleanedData['type'] = namedData['PlayerTrackingContextQuery']['user']['broadcastSettings']['game']['__typename']\n",
    "    if 'VideoPreviewOverlay' in namedData.keys():\n",
    "        cleanedData['PreviewImage'] = namedData['VideoPreviewOverlay']['user']['stream']['previewImageURL']\n",
    "    if 'StreamMetadata' in namedData.keys():\n",
    "        cleanedData['lastBroadcast_title'] = namedData['StreamMetadata']['user']['lastBroadcast']['title']\n",
    "        cleanedData['current_created_at'] = namedData['StreamMetadata']['user']['stream']['createdAt']\n",
    "    if 'UseViewCount' in namedData.keys():\n",
    "        cleanedData['current_viewers'] = namedData['UseViewCount']['user']['stream']['viewersCount']\n",
    "    series = pd.Series(cleanedData)\n",
    "    series['time']=now\n",
    "    return series.to_frame().T.set_index('time')"
   ]
  },
  {
   "cell_type": "code",
   "execution_count": 4,
   "metadata": {},
   "outputs": [],
   "source": [
    "def get_data(username, get_counts, get_general_info=False, get_preview_image=False, get_stream_info=False, **kwargs):\n",
    "    url = 'https://gql.twitch.tv/gql'\n",
    "    headers = \"\"\"Accept: */*\n",
    "Accept-Encoding: gzip, deflate, br\n",
    "Accept-Language: en-US\n",
    "Authorization: OAuth mbg567v79yb6bk61u2mc3zjo91rep0\n",
    "Cache-Control: no-cache\n",
    "Client-Id: kimne78kx3ncx6brgo4mv6wki5h1ko\n",
    "Connection: keep-alive\n",
    "Content-Length: 6702\n",
    "Content-Type: text/plain;charset=UTF-8\n",
    "DNT: 1\n",
    "Host: gql.twitch.tv\n",
    "Origin: https://www.twitch.tv\n",
    "Pragma: no-cache\n",
    "Referer: https://www.twitch.tv/{}\n",
    "Sec-Fetch-Dest: empty\n",
    "Sec-Fetch-Mode: cors\n",
    "Sec-Fetch-Site: same-site\n",
    "User-Agent: Mozilla/5.0 (Windows NT 10.0; Win64; x64) AppleWebKit/537.36 (KHTML, like Gecko) Chrome/87.0.4280.141 Safari/537.36\n",
    "X-Device-Id: c170bf824a20e5aa\"\"\".format(username)\n",
    "    headers = dict(i.split(': ') for i in headers.split('\\n'))\n",
    "    resp=r.post(url, headers=headers, data=get_payload(username,get_counts,get_general_info,get_preview_image,get_stream_info))\n",
    "    return clean_a_bit(resp)"
   ]
  },
  {
   "cell_type": "markdown",
   "metadata": {},
   "source": [
    "# Viz"
   ]
  },
  {
   "cell_type": "code",
   "execution_count": 28,
   "metadata": {},
   "outputs": [
    {
     "data": {
      "application/vnd.jupyter.widget-view+json": {
       "model_id": "3f7c7e8c04f84b1b889b88dc5acd4845",
       "version_major": 2,
       "version_minor": 0
      },
      "text/plain": [
       "FigureWidget({\n",
       "    'data': [{'mode': 'lines',\n",
       "              'name': 'Number of views of a certain channel',\n",
       "  …"
      ]
     },
     "metadata": {},
     "output_type": "display_data"
    }
   ],
   "source": [
    "import plotly.graph_objects as go\n",
    "\n",
    "import sys, signal\n",
    "def signal_handler(signal, frame):\n",
    "    print(\"\\nprogram exiting gracefully\")\n",
    "    sys.exit(0)\n",
    "\n",
    "import time\n",
    "data = get_data('beatportofficial', get_counts = True)\n",
    "def create_plot(data):\n",
    "    fig=go.FigureWidget([go.Scatter(x=data.index, y=data.current_viewers,\n",
    "                    mode='lines',\n",
    "                    name='Number of views of a certain channel')])\n",
    "    return fig\n",
    "fig =create_plot(data)\n",
    "fig"
   ]
  },
  {
   "cell_type": "code",
   "execution_count": 29,
   "metadata": {},
   "outputs": [],
   "source": [
    "def upd(data, fig):\n",
    "    dat = create_plot(data).data\n",
    "    fig.data[0]['y'] = dat[0].y\n",
    "    fig.data[0]['x'] = dat[0].x\n",
    "    "
   ]
  },
  {
   "cell_type": "code",
   "execution_count": 30,
   "metadata": {},
   "outputs": [
    {
     "name": "stdout",
     "output_type": "stream",
     "text": [
      "we are waiting for 15 seconds first\n",
      "done!\n",
      "done!\n",
      "done!\n",
      "done!\n",
      "done!\n",
      "done!\n",
      "\n",
      "program exiting gracefully\n"
     ]
    },
    {
     "ename": "SystemExit",
     "evalue": "0",
     "output_type": "error",
     "traceback": [
      "An exception has occurred, use %tb to see the full traceback.\n",
      "\u001b[1;31mSystemExit\u001b[0m\u001b[1;31m:\u001b[0m 0\n"
     ]
    },
    {
     "name": "stderr",
     "output_type": "stream",
     "text": [
      "C:\\Users\\eldii\\anaconda3\\lib\\site-packages\\IPython\\core\\interactiveshell.py:3426: UserWarning:\n",
      "\n",
      "To exit: use 'exit', 'quit', or Ctrl-D.\n",
      "\n"
     ]
    }
   ],
   "source": [
    "while True:\n",
    "  try:\n",
    "    df = get_data('insomniac', get_counts = True)\n",
    "    data = data.append(df)\n",
    "    time.sleep(3)\n",
    "    upd(data, fig)\n",
    "    print('done!')\n",
    "  except KeyboardInterrupt:\n",
    "    signal.signal(signal.SIGINT, signal_handler)"
   ]
  },
  {
   "cell_type": "code",
   "execution_count": null,
   "metadata": {},
   "outputs": [],
   "source": []
  }
 ],
 "metadata": {
  "kernelspec": {
   "display_name": "Python 3",
   "language": "python",
   "name": "python3"
  },
  "language_info": {
   "codemirror_mode": {
    "name": "ipython",
    "version": 3
   },
   "file_extension": ".py",
   "mimetype": "text/x-python",
   "name": "python",
   "nbconvert_exporter": "python",
   "pygments_lexer": "ipython3",
   "version": "3.8.5"
  }
 },
 "nbformat": 4,
 "nbformat_minor": 2
}
